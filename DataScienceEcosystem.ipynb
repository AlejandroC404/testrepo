{
  "nbformat": 4,
  "nbformat_minor": 0,
  "metadata": {
    "colab": {
      "provenance": []
    },
    "kernelspec": {
      "name": "python3",
      "display_name": "Python 3"
    },
    "language_info": {
      "name": "python"
    }
  },
  "cells": [
    {
      "cell_type": "markdown",
      "source": [
        "# Data Science Tools and Ecosystem\n"
      ],
      "metadata": {
        "id": "GAHXSL02wghP"
      }
    },
    {
      "cell_type": "markdown",
      "source": [
        "In this notebook, Data Science Tools and Ecosystem are summarized."
      ],
      "metadata": {
        "id": "NX6a1xrOxQtw"
      }
    },
    {
      "cell_type": "markdown",
      "source": [
        "Some of the popular languages that Data  Scientists use are:\n",
        "1. R\n",
        "2. Python\n",
        "3. C++"
      ],
      "metadata": {
        "id": "rlYS8znlxqmp"
      }
    },
    {
      "cell_type": "markdown",
      "source": [
        "Some of the commonly used libraries used by Data  Scientists include:\n",
        "1. Pandas\n",
        "2. Numpy\n",
        "3. Seaborn"
      ],
      "metadata": {
        "id": "unJObHWmydYQ"
      }
    },
    {
      "cell_type": "markdown",
      "source": [
        "|Data Science Tools|\n",
        "|---|\n",
        "|Pycharm|\n",
        "|VSCode|\n",
        "|Spyder|"
      ],
      "metadata": {
        "id": "EUG3_KCrysLJ"
      }
    },
    {
      "cell_type": "markdown",
      "source": [
        "### Below are a few examples of evaluating arithmetic expressions in Python.\n"
      ],
      "metadata": {
        "id": "xQnm4_Inyxf5"
      }
    },
    {
      "cell_type": "code",
      "source": [
        "### This a simple arithmetic expression to multiply then add integers.\n",
        "(3*4)+5"
      ],
      "metadata": {
        "colab": {
          "base_uri": "https://localhost:8080/"
        },
        "id": "IpO6vCxC0cIn",
        "outputId": "9fb0b00d-7cd1-4152-a50e-a6469f502b96"
      },
      "execution_count": 1,
      "outputs": [
        {
          "output_type": "execute_result",
          "data": {
            "text/plain": [
              "17"
            ]
          },
          "metadata": {},
          "execution_count": 1
        }
      ]
    },
    {
      "cell_type": "code",
      "source": [
        "#This will convert 200 minutes tob hours by diving by 60\n",
        "200/60"
      ],
      "metadata": {
        "colab": {
          "base_uri": "https://localhost:8080/"
        },
        "id": "kQ5vrXp80yYu",
        "outputId": "75a72782-f18c-4c0c-b90a-460c61f5c11a"
      },
      "execution_count": 3,
      "outputs": [
        {
          "output_type": "execute_result",
          "data": {
            "text/plain": [
              "3.3333333333333335"
            ]
          },
          "metadata": {},
          "execution_count": 3
        }
      ]
    },
    {
      "cell_type": "markdown",
      "source": [
        "Objectives:\n",
        "\n",
        "\n",
        "*   List popular languages for Data Science\n",
        "*   List some of the commonly used libraries by Data Scientist\n",
        "*   Evaluate some arithmetic expressions"
      ],
      "metadata": {
        "id": "yj8NBwlO1jDA"
      }
    },
    {
      "cell_type": "markdown",
      "source": [
        "## Author\n",
        "Alejandro Cantu Lopez"
      ],
      "metadata": {
        "id": "CPCdsxYR2MbQ"
      }
    }
  ]
}